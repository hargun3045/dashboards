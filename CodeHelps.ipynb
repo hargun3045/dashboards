{
 "cells": [
  {
   "cell_type": "code",
   "execution_count": 5,
   "metadata": {},
   "outputs": [],
   "source": [
    "import numpy as np\n",
    "import datetime as dt"
   ]
  },
  {
   "cell_type": "code",
   "execution_count": 10,
   "metadata": {},
   "outputs": [],
   "source": [
    "class Harleen:\n",
    "    \n",
    "    def __init__(self, responsedelay, interest, gussa):\n",
    "        self.responsedelay = responsedelay\n",
    "        self.interest = interest\n",
    "        self.gussa = gussa\n",
    "        \n",
    "    def respond_message(self, timedelay):\n",
    "        if timedelay > 10:\n",
    "            self.gussa += 5\n",
    "            self.interest -= 5\n",
    "    \n",
    "    def wish_goodmorning(self,creativityQuotient):\n",
    "        if creativityQuotient > 0.5:\n",
    "            self.interest +=1\n",
    "            self.gussa -= 1\n",
    "            print('Good morning Hargun')\n",
    "        else:\n",
    "            self.interest -=1\n",
    "            print('Good morning')\n",
    "    \n",
    "    def express_interest(self):\n",
    "        self.interest += 5\n",
    "        self.gussa -5\n",
    "    \n",
    "    def call(self):\n",
    "        if self.interest > 25:\n",
    "            return('Hi! Kaiso ho aap?')\n",
    "        else:\n",
    "            print('The number you have dialed is currently not answering. Please try again later')"
   ]
  },
  {
   "cell_type": "code",
   "execution_count": 11,
   "metadata": {},
   "outputs": [],
   "source": [
    "harleen = Harleen(10, 0, 10)"
   ]
  },
  {
   "cell_type": "code",
   "execution_count": 12,
   "metadata": {},
   "outputs": [
    {
     "name": "stdout",
     "output_type": "stream",
     "text": [
      "Good morning Hargun\n"
     ]
    }
   ],
   "source": [
    "harleen.wish_goodmorning(0.75)"
   ]
  },
  {
   "cell_type": "code",
   "execution_count": 13,
   "metadata": {},
   "outputs": [
    {
     "name": "stdout",
     "output_type": "stream",
     "text": [
      "The number you have dialed is currently not answering. Please try again later\n"
     ]
    }
   ],
   "source": [
    "harleen.call()"
   ]
  },
  {
   "cell_type": "code",
   "execution_count": null,
   "metadata": {},
   "outputs": [],
   "source": []
  },
  {
   "cell_type": "code",
   "execution_count": null,
   "metadata": {},
   "outputs": [],
   "source": []
  }
 ],
 "metadata": {
  "kernelspec": {
   "display_name": "Python 3.7.6 64-bit ('univai': conda)",
   "language": "python",
   "name": "python37664bitunivaicondac2ef9ed280934475b3c4ee15c34f14c7"
  },
  "language_info": {
   "codemirror_mode": {
    "name": "ipython",
    "version": 3
   },
   "file_extension": ".py",
   "mimetype": "text/x-python",
   "name": "python",
   "nbconvert_exporter": "python",
   "pygments_lexer": "ipython3",
   "version": "3.7.6"
  }
 },
 "nbformat": 4,
 "nbformat_minor": 4
}
