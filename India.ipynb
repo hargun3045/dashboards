{
 "cells": [
  {
   "cell_type": "code",
   "execution_count": 1,
   "metadata": {},
   "outputs": [],
   "source": [
    "import pandas as pd\n",
    "import numpy as np\n",
    "import requests\n",
    "from bs4 import BeautifulSoup\n",
    "import datetime as dt\n",
    "from jinja2 import Template\n",
    "from IPython.display import HTML\n",
    "from pathlib import Path\n",
    "import os"
   ]
  },
  {
   "cell_type": "code",
   "execution_count": 2,
   "metadata": {},
   "outputs": [],
   "source": [
    "## Abbrevations mapping\n",
    "url = 'https://slusi.dacnet.nic.in/watershedatlas/list_of_state_abbreviation.htm'\n",
    "\n",
    "# GET request\n",
    "web_content = requests.get(url).content\n",
    "#parse the html content\n",
    "soup = BeautifulSoup(web_content, \"html.parser\")\n",
    "# remove new line and extra spaces\n",
    "extract_contents = lambda row: [x.text.replace('\\n','') for x in row]\n",
    "stats = []\n",
    "all_rows = soup.find_all('tr')\n",
    "for row in all_rows:\n",
    "    stat = extract_contents(row.find_all('td'))\n",
    "    if len(stat) == 3:\n",
    "        stats.append(stat)\n",
    "new_cols = [\"no\",\"state\",\"abb\"]\n",
    "abb_data = pd.DataFrame(data = stats, columns = new_cols)\n",
    "for i in 'state, abb'.split(', '):\n",
    "    abb_data[i] = abb_data[i].map(str) "
   ]
  },
  {
   "cell_type": "code",
   "execution_count": 3,
   "metadata": {},
   "outputs": [],
   "source": [
    "abb_data.drop(0, axis = 0, inplace = True)"
   ]
  },
  {
   "cell_type": "code",
   "execution_count": 4,
   "metadata": {},
   "outputs": [],
   "source": [
    "abb_data.drop(columns = [\"no\"], inplace = True)"
   ]
  },
  {
   "cell_type": "code",
   "execution_count": 5,
   "metadata": {},
   "outputs": [],
   "source": [
    "abb_dict = dict(zip(abb_data.abb.values,abb_data.state.values))"
   ]
  },
  {
   "cell_type": "markdown",
   "metadata": {},
   "source": [
    "### Above I have a dictionary that converts the table"
   ]
  },
  {
   "cell_type": "code",
   "execution_count": 6,
   "metadata": {},
   "outputs": [],
   "source": [
    "df = pd.read_csv('http://api.covid19india.org/states_daily_csv/confirmed.csv', header = 0) "
   ]
  },
  {
   "cell_type": "code",
   "execution_count": 7,
   "metadata": {},
   "outputs": [],
   "source": [
    "df.set_index('date', inplace=True)\n",
    "df = df.T"
   ]
  },
  {
   "cell_type": "code",
   "execution_count": 8,
   "metadata": {},
   "outputs": [],
   "source": [
    "df = df.iloc[:-1,:]"
   ]
  },
  {
   "cell_type": "code",
   "execution_count": 9,
   "metadata": {},
   "outputs": [],
   "source": [
    "df.sort_values(by = [df.columns[-1]], ascending=False, inplace = True)\n",
    "df = df.fillna(0)"
   ]
  },
  {
   "cell_type": "code",
   "execution_count": 10,
   "metadata": {},
   "outputs": [],
   "source": [
    "df = df[df.columns].astype(int)"
   ]
  },
  {
   "cell_type": "code",
   "execution_count": 11,
   "metadata": {},
   "outputs": [],
   "source": [
    "df = df.rename_axis('states').reset_index()"
   ]
  },
  {
   "cell_type": "code",
   "execution_count": 12,
   "metadata": {},
   "outputs": [],
   "source": [
    "df['statesfull'] = df['states'].map(abb_dict)"
   ]
  },
  {
   "cell_type": "code",
   "execution_count": 13,
   "metadata": {},
   "outputs": [],
   "source": [
    "df = df[[df.columns[-1]] + list(df.columns[:-1])]"
   ]
  },
  {
   "cell_type": "code",
   "execution_count": null,
   "metadata": {},
   "outputs": [],
   "source": []
  },
  {
   "cell_type": "code",
   "execution_count": null,
   "metadata": {},
   "outputs": [],
   "source": []
  },
  {
   "cell_type": "code",
   "execution_count": null,
   "metadata": {},
   "outputs": [],
   "source": []
  },
  {
   "cell_type": "markdown",
   "metadata": {},
   "source": [
    "## Using the wayback machine to get started\n",
    "url = 'https://web.archive.org/web/20200421011447/https://www.mohfw.gov.in/'\n",
    "```\n",
    "# GET request\n",
    "web_content = requests.get(url).content\n",
    "#parse the html content\n",
    "soup = BeautifulSoup(web_content, \"html.parser\")\n",
    "# remove new line and extra spaces\n",
    "extract_contents = lambda row: [x.text.replace('\\n','') for x in row]\n",
    "stats = []\n",
    "all_rows = soup.find_all('tr')\n",
    "for row in all_rows:\n",
    "    stat = extract_contents(row.find_all('td'))\n",
    "    if len(stat) == 5:\n",
    "        stats.append(stat)\n",
    "new_cols = [\"no\",\"state\",\"confirmed\",\"recovered\",\"deceased\"]\n",
    "state_data = pd.DataFrame(data = stats, columns = new_cols)\n",
    "for i in 'confirmed, recovered, deceased'.split(', '):\n",
    "    state_data[i] = state_data[i].map(int) \n",
    "    \n",
    "```"
   ]
  },
  {
   "cell_type": "code",
   "execution_count": 14,
   "metadata": {},
   "outputs": [],
   "source": [
    "url = 'https://www.mohfw.gov.in/'\n",
    "# GET request\n",
    "web_content = requests.get(url).content\n",
    "#parse the html content\n",
    "soup = BeautifulSoup(web_content, \"html.parser\")\n",
    "# remove new line and extra spaces\n",
    "extract_contents = lambda row: [x.text.replace('\\n','') for x in row]\n",
    "stats = []\n",
    "all_rows = soup.find_all('tr')\n",
    "for row in all_rows:\n",
    "    stat = extract_contents(row.find_all('td'))\n",
    "    if len(stat) == 5:\n",
    "        stats.append(stat)\n",
    "new_cols = [\"no\",\"state\",\"confirmed\",\"recovered\",\"deceased\"]\n",
    "state_data = pd.DataFrame(data = stats, columns = new_cols)\n",
    "for i in 'confirmed, recovered, deceased'.split(', '):\n",
    "    state_data[i] = state_data[i].map(int) "
   ]
  },
  {
   "cell_type": "code",
   "execution_count": 15,
   "metadata": {},
   "outputs": [],
   "source": [
    "# This was a one time thing\n",
    "# dft_cases = pd.DataFrame({'states':state_data.state.values, str(dt_yday): state_data.confirmed.values})\n",
    "# dft_deaths = pd.DataFrame({'states':state_data.state.values, str(dt_yday): state_data.deceased.values})"
   ]
  },
  {
   "cell_type": "code",
   "execution_count": 16,
   "metadata": {},
   "outputs": [],
   "source": [
    "#Import files\n",
    "path = Path(os.getcwd())\n",
    "os.chdir(path)\n",
    "dft_cases = pd.read_csv('confirmedcases.csv')\n",
    "dft_deaths = pd.read_csv('deathcases.csv')"
   ]
  },
  {
   "cell_type": "code",
   "execution_count": 17,
   "metadata": {},
   "outputs": [],
   "source": [
    "#Get latest date\n",
    "dt_today = dt.date.today()\n",
    "dt_yday = dt_today - dt.timedelta(days = 1)"
   ]
  },
  {
   "cell_type": "code",
   "execution_count": 18,
   "metadata": {},
   "outputs": [],
   "source": [
    "# Check if the updating day is different from last day\n",
    "if not str(dt_today) == dft_cases.columns[-1]:\n",
    "    dft_cases[str(dt_today)] = state_data.confirmed\n",
    "    dft_deaths[str(dt_today)] = state_data.deceased"
   ]
  },
  {
   "cell_type": "code",
   "execution_count": 19,
   "metadata": {},
   "outputs": [],
   "source": [
    "#Export csv for next day\n",
    "dft_cases.to_csv('confirmedcases.csv', index=False)\n",
    "dft_deaths.to_csv('deathcases.csv', index = False)"
   ]
  },
  {
   "cell_type": "code",
   "execution_count": 20,
   "metadata": {},
   "outputs": [
    {
     "ename": "KeyError",
     "evalue": "'Column not found: 2020-04-24'",
     "output_type": "error",
     "traceback": [
      "\u001b[0;31m---------------------------------------------------------------------------\u001b[0m",
      "\u001b[0;31mKeyError\u001b[0m                                  Traceback (most recent call last)",
      "\u001b[0;32m<ipython-input-20-f4f138ce6039>\u001b[0m in \u001b[0;36m<module>\u001b[0;34m\u001b[0m\n\u001b[1;32m      1\u001b[0m \u001b[0mdfc_cases\u001b[0m \u001b[0;34m=\u001b[0m \u001b[0mdft_cases\u001b[0m\u001b[0;34m.\u001b[0m\u001b[0mgroupby\u001b[0m\u001b[0;34m(\u001b[0m\u001b[0;34m'states'\u001b[0m\u001b[0;34m)\u001b[0m\u001b[0;34m[\u001b[0m\u001b[0mstr\u001b[0m\u001b[0;34m(\u001b[0m\u001b[0mdt_today\u001b[0m\u001b[0;34m)\u001b[0m\u001b[0;34m]\u001b[0m\u001b[0;34m.\u001b[0m\u001b[0msum\u001b[0m\u001b[0;34m(\u001b[0m\u001b[0;34m)\u001b[0m\u001b[0;34m\u001b[0m\u001b[0;34m\u001b[0m\u001b[0m\n\u001b[1;32m      2\u001b[0m \u001b[0mdfc_deaths\u001b[0m \u001b[0;34m=\u001b[0m \u001b[0mdft_deaths\u001b[0m\u001b[0;34m.\u001b[0m\u001b[0mgroupby\u001b[0m\u001b[0;34m(\u001b[0m\u001b[0;34m'states'\u001b[0m\u001b[0;34m)\u001b[0m\u001b[0;34m[\u001b[0m\u001b[0mstr\u001b[0m\u001b[0;34m(\u001b[0m\u001b[0mdt_today\u001b[0m\u001b[0;34m)\u001b[0m\u001b[0;34m]\u001b[0m\u001b[0;34m.\u001b[0m\u001b[0msum\u001b[0m\u001b[0;34m(\u001b[0m\u001b[0;34m)\u001b[0m\u001b[0;34m\u001b[0m\u001b[0;34m\u001b[0m\u001b[0m\n\u001b[0;32m----> 3\u001b[0;31m \u001b[0mdfp_cases\u001b[0m \u001b[0;34m=\u001b[0m \u001b[0mdft_cases\u001b[0m\u001b[0;34m.\u001b[0m\u001b[0mgroupby\u001b[0m\u001b[0;34m(\u001b[0m\u001b[0;34m'states'\u001b[0m\u001b[0;34m)\u001b[0m\u001b[0;34m[\u001b[0m\u001b[0mstr\u001b[0m\u001b[0;34m(\u001b[0m\u001b[0mdt_yday\u001b[0m\u001b[0;34m)\u001b[0m\u001b[0;34m]\u001b[0m\u001b[0;34m.\u001b[0m\u001b[0msum\u001b[0m\u001b[0;34m(\u001b[0m\u001b[0;34m)\u001b[0m\u001b[0;34m\u001b[0m\u001b[0;34m\u001b[0m\u001b[0m\n\u001b[0m\u001b[1;32m      4\u001b[0m \u001b[0mdfp_deaths\u001b[0m \u001b[0;34m=\u001b[0m \u001b[0mdft_deaths\u001b[0m\u001b[0;34m.\u001b[0m\u001b[0mgroupby\u001b[0m\u001b[0;34m(\u001b[0m\u001b[0;34m'states'\u001b[0m\u001b[0;34m)\u001b[0m\u001b[0;34m[\u001b[0m\u001b[0mstr\u001b[0m\u001b[0;34m(\u001b[0m\u001b[0mdt_yday\u001b[0m\u001b[0;34m)\u001b[0m\u001b[0;34m]\u001b[0m\u001b[0;34m.\u001b[0m\u001b[0msum\u001b[0m\u001b[0;34m(\u001b[0m\u001b[0;34m)\u001b[0m\u001b[0;34m\u001b[0m\u001b[0;34m\u001b[0m\u001b[0m\n",
      "\u001b[0;32m~/Desktop/Programming/anaconda3/envs/univai/lib/python3.7/site-packages/pandas/core/groupby/generic.py\u001b[0m in \u001b[0;36m__getitem__\u001b[0;34m(self, key)\u001b[0m\n\u001b[1;32m   1601\u001b[0m                 \u001b[0mstacklevel\u001b[0m\u001b[0;34m=\u001b[0m\u001b[0;36m2\u001b[0m\u001b[0;34m,\u001b[0m\u001b[0;34m\u001b[0m\u001b[0;34m\u001b[0m\u001b[0m\n\u001b[1;32m   1602\u001b[0m             )\n\u001b[0;32m-> 1603\u001b[0;31m         \u001b[0;32mreturn\u001b[0m \u001b[0msuper\u001b[0m\u001b[0;34m(\u001b[0m\u001b[0;34m)\u001b[0m\u001b[0;34m.\u001b[0m\u001b[0m__getitem__\u001b[0m\u001b[0;34m(\u001b[0m\u001b[0mkey\u001b[0m\u001b[0;34m)\u001b[0m\u001b[0;34m\u001b[0m\u001b[0;34m\u001b[0m\u001b[0m\n\u001b[0m\u001b[1;32m   1604\u001b[0m \u001b[0;34m\u001b[0m\u001b[0m\n\u001b[1;32m   1605\u001b[0m     \u001b[0;32mdef\u001b[0m \u001b[0m_gotitem\u001b[0m\u001b[0;34m(\u001b[0m\u001b[0mself\u001b[0m\u001b[0;34m,\u001b[0m \u001b[0mkey\u001b[0m\u001b[0;34m,\u001b[0m \u001b[0mndim\u001b[0m\u001b[0;34m:\u001b[0m \u001b[0mint\u001b[0m\u001b[0;34m,\u001b[0m \u001b[0msubset\u001b[0m\u001b[0;34m=\u001b[0m\u001b[0;32mNone\u001b[0m\u001b[0;34m)\u001b[0m\u001b[0;34m:\u001b[0m\u001b[0;34m\u001b[0m\u001b[0;34m\u001b[0m\u001b[0m\n",
      "\u001b[0;32m~/Desktop/Programming/anaconda3/envs/univai/lib/python3.7/site-packages/pandas/core/base.py\u001b[0m in \u001b[0;36m__getitem__\u001b[0;34m(self, key)\u001b[0m\n\u001b[1;32m    228\u001b[0m         \u001b[0;32melse\u001b[0m\u001b[0;34m:\u001b[0m\u001b[0;34m\u001b[0m\u001b[0;34m\u001b[0m\u001b[0m\n\u001b[1;32m    229\u001b[0m             \u001b[0;32mif\u001b[0m \u001b[0mkey\u001b[0m \u001b[0;32mnot\u001b[0m \u001b[0;32min\u001b[0m \u001b[0mself\u001b[0m\u001b[0;34m.\u001b[0m\u001b[0mobj\u001b[0m\u001b[0;34m:\u001b[0m\u001b[0;34m\u001b[0m\u001b[0;34m\u001b[0m\u001b[0m\n\u001b[0;32m--> 230\u001b[0;31m                 \u001b[0;32mraise\u001b[0m \u001b[0mKeyError\u001b[0m\u001b[0;34m(\u001b[0m\u001b[0;34mf\"Column not found: {key}\"\u001b[0m\u001b[0;34m)\u001b[0m\u001b[0;34m\u001b[0m\u001b[0;34m\u001b[0m\u001b[0m\n\u001b[0m\u001b[1;32m    231\u001b[0m             \u001b[0;32mreturn\u001b[0m \u001b[0mself\u001b[0m\u001b[0;34m.\u001b[0m\u001b[0m_gotitem\u001b[0m\u001b[0;34m(\u001b[0m\u001b[0mkey\u001b[0m\u001b[0;34m,\u001b[0m \u001b[0mndim\u001b[0m\u001b[0;34m=\u001b[0m\u001b[0;36m1\u001b[0m\u001b[0;34m)\u001b[0m\u001b[0;34m\u001b[0m\u001b[0;34m\u001b[0m\u001b[0m\n\u001b[1;32m    232\u001b[0m \u001b[0;34m\u001b[0m\u001b[0m\n",
      "\u001b[0;31mKeyError\u001b[0m: 'Column not found: 2020-04-24'"
     ]
    }
   ],
   "source": [
    "dfc_cases = dft_cases.groupby('states')[str(dt_today)].sum()\n",
    "dfc_deaths = dft_deaths.groupby('states')[str(dt_today)].sum()\n",
    "dfp_cases = dft_cases.groupby('states')[str(dt_yday)].sum()\n",
    "dfp_deaths = dft_deaths.groupby('states')[str(dt_yday)].sum()"
   ]
  },
  {
   "cell_type": "code",
   "execution_count": null,
   "metadata": {},
   "outputs": [],
   "source": [
    "# Build the cases table\n",
    "df_table = (pd.DataFrame(dict(Cases = dfc_cases, Deaths = dfc_deaths, PCases = dfp_cases, PDeaths = dfp_deaths))\n",
    "            .sort_values(by = ['Cases','Deaths'], ascending = [False, False])\n",
    "            .reset_index())\n",
    "for c in 'Cases, Deaths'.split(', '):\n",
    "    df_table[f'{c} (+)'] = (df_table[c] - df_table[f'P{c}']).clip(0)\n",
    "    #Clip ça veut dire, les chiffres negatif sont interdit\n",
    "df_table['Fatality Rate'] = (100* df_table['Deaths']/ df_table['Cases']).round(2)"
   ]
  },
  {
   "cell_type": "code",
   "execution_count": null,
   "metadata": {},
   "outputs": [],
   "source": [
    "#Building the summary tab\n",
    "metrics = [df_table.columns[index] for index in [1,2,5,6]]\n",
    "s_mah = df_table[df_table.states == 'Maharashtra'][metrics].sum().add_prefix('MH ')\n",
    "s_del = df_table[df_table.states =='Delhi'][metrics].sum().add_prefix('DEL ')\n",
    "s_guj = df_table[df_table.states == 'Gujarat'][metrics].sum().add_prefix('GUJ ')\n",
    "summary = {'updated': dt_today, 'since': dt_yday}\n",
    "summary = {**summary,**df_table[metrics].sum(), **s_mah, **s_del, **s_guj}"
   ]
  },
  {
   "cell_type": "code",
   "execution_count": null,
   "metadata": {},
   "outputs": [],
   "source": [
    "#Data on new cases\n",
    "dt_cols = dft_cases.columns[-1:-len(dft_cases.columns):-1]\n",
    "dt_cols = list(dt_cols[i] for i in range(len(dt_cols)-1,-1,-1))\n",
    "dft_ct_new_cases = dft_cases.groupby('states')[dt_cols].sum().diff(axis=1).fillna(0).astype(int)\n",
    "dft_ct_new_cases.sort_values(by = [dft_ct_new_cases.columns[-1]], ascending = False)"
   ]
  },
  {
   "cell_type": "code",
   "execution_count": null,
   "metadata": {},
   "outputs": [],
   "source": [
    "# Get total number from world data only\n",
    "COL_REGION = 'states'\n",
    "KPI_CASE = 'India'\n",
    "kpis_info = [\n",
    "    {'title': 'Maharashtra', 'prefix': 'MH'},\n",
    "    {'title': 'Delhi', 'prefix': 'DEL'},\n",
    "    {'title': 'Gujarat', 'prefix': 'GUJ'}]"
   ]
  },
  {
   "cell_type": "code",
   "execution_count": null,
   "metadata": {},
   "outputs": [],
   "source": [
    "#hide\n",
    "def get_template(path):\n",
    "    from urllib.parse import urlparse\n",
    "    if bool(urlparse(path).netloc):\n",
    "        from urllib.request import urlopen\n",
    "        return urlopen(path).read().decode('utf8')\n",
    "    return open(path).read()"
   ]
  },
  {
   "cell_type": "code",
   "execution_count": null,
   "metadata": {},
   "outputs": [],
   "source": [
    "#hide_input\n",
    "template = Template(get_template('https://raw.githubusercontent.com/hargun3045/dashboards/master/overview.tpl'))\n",
    "#Local method\n",
    "# with open('overview.tpl','r') as f:\n",
    "#     temp = f.read()\n",
    "#template = Template(temp)\n",
    "html = template.render(\n",
    "    D=summary, table=df_table.head(10),\n",
    "    KPI_CASE = KPI_CASE,COL_REGION = COL_REGION,\n",
    "    KPIS_INFO = kpis_info,# REMOVE .head(20) to see all values\n",
    "    newcases=dft_ct_new_cases.loc[:, dt_cols[-len(dt_cols)]:dt_cols[-1]],\n",
    "    np=np, pd=pd, enumerate=enumerate)\n",
    "HTML(f'<div>{html}</div>')"
   ]
  },
  {
   "cell_type": "code",
   "execution_count": null,
   "metadata": {},
   "outputs": [],
   "source": []
  },
  {
   "cell_type": "code",
   "execution_count": null,
   "metadata": {},
   "outputs": [],
   "source": []
  },
  {
   "cell_type": "code",
   "execution_count": null,
   "metadata": {},
   "outputs": [],
   "source": []
  }
 ],
 "metadata": {
  "kernelspec": {
   "display_name": "Python 3.7.6 64-bit ('univai': conda)",
   "language": "python",
   "name": "python37664bitunivaicondac2ef9ed280934475b3c4ee15c34f14c7"
  },
  "language_info": {
   "codemirror_mode": {
    "name": "ipython",
    "version": 3
   },
   "file_extension": ".py",
   "mimetype": "text/x-python",
   "name": "python",
   "nbconvert_exporter": "python",
   "pygments_lexer": "ipython3",
   "version": "3.7.6"
  }
 },
 "nbformat": 4,
 "nbformat_minor": 4
}
