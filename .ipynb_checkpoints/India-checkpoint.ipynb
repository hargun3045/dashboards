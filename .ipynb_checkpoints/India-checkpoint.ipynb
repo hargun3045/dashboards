{
 "cells": [
  {
   "cell_type": "code",
   "execution_count": 71,
   "metadata": {},
   "outputs": [],
   "source": [
    "import pandas as pd\n",
    "import numpy as np\n",
    "import requests\n",
    "from bs4 import BeautifulSoup\n",
    "import datetime as dt"
   ]
  },
  {
   "cell_type": "markdown",
   "metadata": {},
   "source": [
    "## Using the wayback machine to get started\n",
    "url = 'https://web.archive.org/web/20200421011447/https://www.mohfw.gov.in/'\n",
    "```\n",
    "# GET request\n",
    "web_content = requests.get(url).content\n",
    "#parse the html content\n",
    "soup = BeautifulSoup(web_content, \"html.parser\")\n",
    "# remove new line and extra spaces\n",
    "extract_contents = lambda row: [x.text.replace('\\n','') for x in row]\n",
    "stats = []\n",
    "all_rows = soup.find_all('tr')\n",
    "for row in all_rows:\n",
    "    stat = extract_contents(row.find_all('td'))\n",
    "    if len(stat) == 5:\n",
    "        stats.append(stat)\n",
    "new_cols = [\"no\",\"state\",\"confirmed\",\"recovered\",\"deceased\"]\n",
    "state_data = pd.DataFrame(data = stats, columns = new_cols)\n",
    "for i in 'confirmed, recovered, deceased'.split(', '):\n",
    "    state_data[i] = state_data[i].map(int) \n",
    "    \n",
    "```"
   ]
  },
  {
   "cell_type": "code",
   "execution_count": 130,
   "metadata": {},
   "outputs": [],
   "source": [
    "url = 'https://www.mohfw.gov.in/'\n",
    "# GET request\n",
    "web_content = requests.get(url).content\n",
    "#parse the html content\n",
    "soup = BeautifulSoup(web_content, \"html.parser\")\n",
    "# remove new line and extra spaces\n",
    "extract_contents = lambda row: [x.text.replace('\\n','') for x in row]\n",
    "stats = []\n",
    "all_rows = soup.find_all('tr')\n",
    "for row in all_rows:\n",
    "    stat = extract_contents(row.find_all('td'))\n",
    "    if len(stat) == 5:\n",
    "        stats.append(stat)\n",
    "new_cols = [\"no\",\"state\",\"confirmed\",\"recovered\",\"deceased\"]\n",
    "state_data = pd.DataFrame(data = stats, columns = new_cols)\n",
    "for i in 'confirmed, recovered, deceased'.split(', '):\n",
    "    state_data[i] = state_data[i].map(int) "
   ]
  },
  {
   "cell_type": "code",
   "execution_count": 126,
   "metadata": {},
   "outputs": [],
   "source": [
    "# This was a one time thing\n",
    "# dft_cases = pd.DataFrame({'states':state_data.state.values, str(dt_yday): state_data.confirmed.values})\n",
    "# dft_deaths = pd.DataFrame({'states':state_data.state.values, str(dt_yday): state_data.deceased.values})"
   ]
  },
  {
   "cell_type": "code",
   "execution_count": 103,
   "metadata": {},
   "outputs": [],
   "source": [
    "#Import files\n",
    "dft_cases = pd.read_csv('confirmedcases.csv')\n",
    "dft_deaths = pd.read_csv('deathcases.csv')"
   ]
  },
  {
   "cell_type": "code",
   "execution_count": 129,
   "metadata": {},
   "outputs": [],
   "source": [
    "#Get latest date\n",
    "dt_today = dt.date.today()\n",
    "dt_yday = dt_today - dt.timedelta(days = 1)"
   ]
  },
  {
   "cell_type": "code",
   "execution_count": 132,
   "metadata": {},
   "outputs": [],
   "source": [
    "# Check if the updating day is different from last day\n",
    "if not str(dt_today) == dft_cases.columns[-1]:\n",
    "    dft_cases[str(dt_today)] = state_data.confirmed\n",
    "    dft_deaths[str(dt_today)] = state_data.deceased"
   ]
  },
  {
   "cell_type": "code",
   "execution_count": 136,
   "metadata": {},
   "outputs": [],
   "source": [
    "#Export csv for next day\n",
    "dft_cases.to_csv('confirmedcases.csv', index=False)\n",
    "dft_deaths.to_csv('deathcases.csv', index = False)"
   ]
  },
  {
   "cell_type": "code",
   "execution_count": 137,
   "metadata": {},
   "outputs": [],
   "source": [
    "dfc_cases = dft_cases.groupby('states')[str(dt_today)].sum()\n",
    "dfc_deaths = dft_deaths.groupby('states')[str(dt_today)].sum()\n",
    "dfp_cases = dft_cases.groupby('states')[str(dt_yday)].sum()\n",
    "dfp_deaths = dft_deaths.groupby('states')[str(dt_yday)].sum()"
   ]
  },
  {
   "cell_type": "code",
   "execution_count": 140,
   "metadata": {},
   "outputs": [],
   "source": [
    "# Build the cases table\n",
    "df_table = (pd.DataFrame(dict(Cases = dfc_cases, Deaths = dfc_deaths, PCases = dfp_cases, PDeaths = dfp_deaths))\n",
    "            .sort_values(by = ['Cases','Deaths'], ascending = [False, False])\n",
    "            .reset_index())\n",
    "for c in 'Cases, Deaths'.split(', '):\n",
    "    df_table[f'{c} (+)'] = (df_table[c] - df_table[f'P{c}']).clip(0)\n",
    "    #Clip ça veut dire, les chiffres negatif sont interdit\n",
    "df_table['Fatality Rate'] = (100* df_table['Deaths']/ df_table['Cases']).round(2)"
   ]
  },
  {
   "cell_type": "code",
   "execution_count": 153,
   "metadata": {},
   "outputs": [],
   "source": [
    "#Building the summary tab\n",
    "metrics = [df_table.columns[index] for index in [1,2,5,6]]\n",
    "s_mah = df_table[df_table.states == 'Maharashtra'][metrics].sum().add_prefix('MH ')\n",
    "s_del = df_table[df_table.states =='Delhi'][metrics].sum().add_prefix('DEL ')\n",
    "s_guj = df_table[df_table.states == 'Gujarat'][metrics].sum().add_prefix('GUJ ')\n",
    "summary = {'updated': dt_today, 'since': dt_yday}\n",
    "summary = {**summary,**df_table[metrics].sum(), **s_mah, **s_del, **s_guj}"
   ]
  },
  {
   "cell_type": "code",
   "execution_count": 166,
   "metadata": {},
   "outputs": [],
   "source": [
    "#Data on new cases\n",
    "dt_cols = dft_cases.columns[-1:-len(dft_cases.columns):-1]\n",
    "dft_ct_new_cases = dft_cases.groupby('states')[dt_cols].sum().diff(axis=1).fillna(0).astype(int)"
   ]
  },
  {
   "cell_type": "code",
   "execution_count": null,
   "metadata": {},
   "outputs": [],
   "source": [
    "# Get total number from world data only"
   ]
  },
  {
   "cell_type": "code",
   "execution_count": null,
   "metadata": {},
   "outputs": [],
   "source": [
    "#Import template"
   ]
  },
  {
   "cell_type": "code",
   "execution_count": null,
   "metadata": {},
   "outputs": [],
   "source": []
  },
  {
   "cell_type": "code",
   "execution_count": null,
   "metadata": {},
   "outputs": [],
   "source": []
  },
  {
   "cell_type": "code",
   "execution_count": null,
   "metadata": {},
   "outputs": [],
   "source": []
  }
 ],
 "metadata": {
  "kernelspec": {
   "display_name": "Python 3.7.6 64-bit ('univai': conda)",
   "language": "python",
   "name": "python37664bitunivaicondac2ef9ed280934475b3c4ee15c34f14c7"
  },
  "language_info": {
   "codemirror_mode": {
    "name": "ipython",
    "version": 3
   },
   "file_extension": ".py",
   "mimetype": "text/x-python",
   "name": "python",
   "nbconvert_exporter": "python",
   "pygments_lexer": "ipython3",
   "version": "3.7.6"
  }
 },
 "nbformat": 4,
 "nbformat_minor": 4
}
